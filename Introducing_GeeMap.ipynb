{
  "nbformat": 4,
  "nbformat_minor": 0,
  "metadata": {
    "colab": {
      "provenance": [],
      "toc_visible": true,
      "authorship_tag": "ABX9TyPsFp7xkPEaTgbhkHvTlWQ2",
      "include_colab_link": true
    },
    "kernelspec": {
      "name": "python3",
      "display_name": "Python 3"
    },
    "language_info": {
      "name": "python"
    }
  },
  "cells": [
    {
      "cell_type": "markdown",
      "metadata": {
        "id": "view-in-github",
        "colab_type": "text"
      },
      "source": [
        "<a href=\"https://colab.research.google.com/github/naveedali786/Geospatial-Data-Science-GEEMAP/blob/main/Introducing_GeeMap.ipynb\" target=\"_parent\"><img src=\"https://colab.research.google.com/assets/colab-badge.svg\" alt=\"Open In Colab\"/></a>"
      ]
    },
    {
      "cell_type": "markdown",
      "source": [
        "**Name:** Muhammad Naveed <br>\n",
        "**Email:** naveedali786aziz@gmail.com <br>\n",
        "**Follow Me:**[LinkedIn](https://www.linkedin.com/in/ai-expert/)\n"
      ],
      "metadata": {
        "id": "dK3XLKCeK1GQ"
      }
    },
    {
      "cell_type": "markdown",
      "source": [
        "#1.1.**Introduction**\n",
        "One popular **cloud computing platform** in the **geospatial sector** is **Google Earth Engine**. It allows users to display, modify, and **analyze** geospatial data **quickly** and **effectively** to its features a **multi-petabyte data** repository of **satellite images and geographic datasets**. **Geemap** greatly simplifies the analysis and visualization of Earth Engine datasets in a **Jupyter environment**. It is based on the Earth Engine **Python API** and **open-source mapping tools**. Ever since its launch in April 2020, geemap has grown to be the most widely used Python tool for interactive **Earth Engine data analysis** and display.Special thanks to [Dr. Qiusheng Wu](https://dot.cards/giswqs) for sharing such nice geospatial packages, Geemap and Leafmap, for **geospatial communities**."
      ],
      "metadata": {
        "id": "BeKMAlsDgWP8"
      }
    },
    {
      "cell_type": "markdown",
      "source": [
        "In **Notebook** the **fundamentals** of Google Earth Engine, geemap, and Geospatial Data Science are covered. We will guide you through **installing** Geemap and **configuring** a **Conda setup**. We will also look at how to use geemap with **Google Colab** without requiring any device installations. Lastly, we will include a few helpful links for more [Earth Engine and geemap](https://spatial.utk.edu/gee/chapters/01_introduction.html#ch01-install) information Notebook."
      ],
      "metadata": {
        "id": "J6-CRZabkW7s"
      }
    },
    {
      "cell_type": "markdown",
      "source": [
        "##1.2.**What is Data Science**\n",
        "we can define Data Science as \"**Data science** is the field of **extracting** insights and **knowledge** from **large volumes of data** using various techniques and tools. It involves\n",
        "* **Collecting**\n",
        "* **Processing**\n",
        "* **Analyzing**\n",
        "* **interpreting**\n",
        "\n",
        "data to **solvereal-world problems** and make informed **decisions**.\"\n",
        "\n",
        "### **Real-Life Examples**\n",
        "**1.1 In healthcare:**\n",
        "  - Analyzing patient records and medical imaging data\n",
        "  - Identifying patterns and predicting diseases\n",
        "\n",
        "**1.2 In retail:**\n",
        "  - Analyzing customer purchase history\n",
        "  - Personalizing marketing campaigns\n",
        "  - Optimizing inventory management\n",
        "\n",
        "**1.3 In finance:**\n",
        "  - Fraud detection\n",
        "  - Risk assessment\n",
        "  - Algorithmic trading\n",
        "\n",
        "\n",
        "\n"
      ],
      "metadata": {
        "id": "yEU0mOi0lpfv"
      }
    },
    {
      "cell_type": "markdown",
      "source": [
        "#1.2.1 **What is Geospatial data science**\n",
        "we can Define as \"**Geospatial data science** is the **interdisciplinary** field that combines\n",
        "* **geography**,\n",
        "* **spatial analysis**,\n",
        "* **data science techniques**\n",
        "* To study and **analyze spatial data**.\n",
        "\n",
        "It involves\n",
        "* *collecting*\n",
        "* *processing*\n",
        "* *visualizing*\n",
        "* *interpreting geographic information*\n",
        "\n",
        "to derive meaningful insights and make informed decisions.\"\n",
        "\n",
        "#### **Real-life examples:**\n",
        "**2.1 Urban Planning:**\n",
        "  - Analyzing population density\n",
        "  - Studying land use patterns\n",
        "  - Mapping transportation networks\n",
        "  - Informing zoning regulations\n",
        "  - Guiding infrastructure development\n",
        "  - Planning public transportation routes\n",
        "\n",
        "**2.2 Natural Resource Management:**\n",
        "  - Monitoring forests, water bodies, and wildlife habitats\n",
        "  - Analyzing satellite imagery and spatial data\n",
        "  - Assessing deforestation\n",
        "  - Evaluating water quality\n",
        "  - Identifying biodiversity hotspots\n",
        "\n",
        "**2.3 Emergency Response:**\n",
        "  - Analyzing real-time satellite imagery\n",
        "  - Assessing damage extent\n",
        "  - Identifying affected areas\n",
        "  - Coordinating rescue and relief operations\n",
        "  \n",
        "**2.4 Precision Agriculture:**\n",
        "  - Optimizing crop management practices\n",
        "  - Increasing yield\n",
        "  - Reducing environmental impact\n",
        "  - Analyzing soil moisture levels\n",
        "  - Monitoring weather patterns\n",
        "  - Assessing crop health indicators"
      ],
      "metadata": {
        "id": "zGThgcVYp_wn"
      }
    },
    {
      "cell_type": "markdown",
      "source": [
        "# **1.3. What is Google Earth Engine:**"
      ],
      "metadata": {
        "id": "yx5Klfsjs7PT"
      }
    },
    {
      "cell_type": "markdown",
      "source": [
        "Google Earth Engine (GEE) is a **cloud computing** platform with a **multi-petabyte data** catalog of **satellite imagery** and geospatial datasets [Gorelick et al., 2017](https://spatial.utk.edu/gee/chapters/bibliography.html#id3). During the past few years, GEE has become very popular in the geospatial community, and it has empowered numerous environmental applications at **local**, **regional**, and **global scales** [Amani et al., 2020, Boothroyd et al., 2020, Tamiminia et al., 2020, Wu et al., 2019](https://spatial.utk.edu/gee/chapters/bibliography.html#id4)."
      ],
      "metadata": {
        "id": "hmslIUjglwSL"
      }
    },
    {
      "cell_type": "markdown",
      "source": [
        "# **1.4 What is GeeMap**"
      ],
      "metadata": {
        "id": "NH0yIcrLjWM8"
      }
    },
    {
      "cell_type": "markdown",
      "source": [
        "* Geemap is a Python library that provides a **user-friendly interface** for **visualizing** and **analyzing** geospatial data using **Google Earth Engine**.\n",
        "\n",
        "* It allows users to **create interactive maps**, perform **spatial analysis**, and generate **visualizations** without requiring extensive **coding** knowledge.\n",
        "\n",
        "* **Geemap** is intended for **students** and **researchers** who would like to utilize the **Python ecosystem** of diverse libraries and tools to explore Google Earth Engine.\n",
        "* It is also designed for existing **GEE users** who would like to transition from the **GEE JavaScript API** to the **Python API**."
      ],
      "metadata": {
        "id": "PMKm8zBAz1LZ"
      }
    },
    {
      "cell_type": "markdown",
      "source": [
        "# **1.5. Installing geemap**"
      ],
      "metadata": {
        "id": "ziIYgGJC1RE4"
      }
    },
    {
      "cell_type": "markdown",
      "source": [
        "The geemap package has some optional dependencies, such as [GeoPandas](https://geopandas.org/en/stable/) and [localtileserver](https://github.com/banesullivan/localtileserver). These optional dependencies can sometimes be a challenge to install, especially on Windows. Therefore, we advise you to closely follow the recommendations below to avoid installation problems."
      ],
      "metadata": {
        "id": "AUP7_37_1RfX"
      }
    },
    {
      "cell_type": "markdown",
      "source": [
        "# **1.5.1. Installing with conda**\n",
        "To install geemap and its dependencies, we recommend you use the **conda** package and **environment manager**\n",
        "\n",
        "Geemap is available on the **conda-forge** Anaconda channel, a community effort that provides conda packages for a **wide range** of software."
      ],
      "metadata": {
        "id": "ZS6jPB6a2W75"
      }
    },
    {
      "cell_type": "markdown",
      "source": [
        "**Here Steps to intall Geemap With Conda**\n",
        "\n",
        "**Step 1:** Creating a new conda environment to install geemap\n",
        "\n",
        "**Step 2:** First,open the Anaconda Prompt or Terminal to run following following commands create a new conda environment named gee and install geemap in it:\n",
        "```\n",
        "conda create -n gee python\n",
        "```\n",
        "**Step 3:**\n",
        "Next, activate the new **conda environment** by typing “conda activate gee” and press Enter.\n",
        "\n",
        "```\n",
        "conda activate gee\n",
        "```\n",
        "**Step 4:**\n",
        " Then, install geemap into the environment we just activated by typing “conda install -c conda-forge geemap” and press Enter\n",
        "```\n",
        "conda install -c conda-forge geemap\n",
        "```\n",
        "**Addtional Information**\n",
        " It might take a lot time to a while for conda to resolve dependencies. Therefore, we highly recommend you to **install Mamba**, a fast, robust, and cross-platform package manager. Mamba is a re-write of conda that significantly increases the speed of resolving and installing packages.\n",
        "\n",
        "\n",
        "---\n",
        "Here Is Following Command to Install Mamba:\n",
        "- To install Mamba, type “conda install -c conda-forge mamba” and press Enter\n",
        "```\n",
        "conda install -c conda-forge mamba\n",
        "mamba install -c conda-forge pygis\n",
        "```\n",
        "- Once Mamba is installed in a conda environment, you can then simply replace any conda command with mamba. For example, to install pygis, type “mamba install -c conda-forge pygis” and press Enter\n",
        "```\n",
        "conda install -c conda-forge pygis\n",
        "```\n",
        "- Congratulations! You have successfully installed geemap and its dependencies.\n",
        "\n",
        "\n",
        "\n",
        "\n",
        "\n",
        "\n",
        "\n",
        "\n",
        "\n",
        "\n",
        "\n",
        "\n"
      ],
      "metadata": {
        "id": "mDvqpETo4bCg"
      }
    },
    {
      "cell_type": "markdown",
      "source": [
        "# **1.5.2. Installing with pip**\n",
        "Geemap is also available on PyPI. It can be installed with pip using the following command\n",
        "```\n",
        "pip install geemap\n",
        "```\n",
        "All optional dependencies of geemap are listed in [requirements_all.txt](https://github.com/gee-community/geemap/blob/master/requirements_all.txt), which can be installed using one of the following:\n",
        "\n",
        "```\n",
        "pip install geemap[extra]\n",
        "pip install geemap[all]\n",
        "pip install geemap[backends]\n",
        "\n",
        "```\n",
        "\n",
        "\n"
      ],
      "metadata": {
        "id": "KOSc6IGgEWBS"
      }
    },
    {
      "cell_type": "markdown",
      "source": [
        "# **1.5.3. Installing from GitHub Repository**\n",
        "You may install the latest development version by cloning the GitHub repository with Git and using pip to install from the local directory:First Open Terminal and run the following command below:\n",
        "```\n",
        "git clone https://github.com/gee-community/geemap\n",
        "cd geemap\n",
        "pip install .\n",
        "```\n",
        "You can just search on Gooogle \"Geemap githu Repository\" Fist website copy the link and past on terminal\n",
        "\n",
        "It is also possible to install the latest development version directly from the GitHub repository with:\n",
        "\n",
        "```pip install git+https://github.com/gee-community/geemap ```\n",
        "\n"
      ],
      "metadata": {
        "id": "33liTsXJF60w"
      }
    },
    {
      "cell_type": "markdown",
      "source": [
        "# **1.5.4.Upgrading geemap**\n",
        "If you have installed geemap before and want to upgrade to the latest version, you can run the following command in your terminal:\n",
        "\n",
        "``` pip install -U geemap```"
      ],
      "metadata": {
        "id": "SaXx6N8EHRNZ"
      }
    },
    {
      "cell_type": "markdown",
      "source": [
        "# **1.6.Creating a Jupyter notebook**\n",
        "\n",
        "Here steps to create a Jupyter notebook using the Anaconda terminal:\n",
        "\n",
        "1. Open Anaconda Navigator on your computer.\n",
        "\n",
        "2. Launch the Anaconda terminal from the Navigator's home screen.\n",
        "\n",
        "3. Navigate to the directory where you want to create the Jupyter notebook using the `cd` command followed by the path to the directory. For example:\n",
        "   ```\n",
        "   cd path/to/your/directory\n",
        "   ```\n",
        "\n",
        "4. Once you're in the desired directory, type the following command and press Enter:\n",
        "   ```\n",
        "   jupyter notebook\n",
        "   ```\n",
        "\n",
        "5. This command will start the Jupyter notebook server and open a new browser window (or tab) displaying the Jupyter dashboard.\n",
        "\n",
        "6. In the Jupyter dashboard, click on the \"New\" button in the top right corner.\n",
        "\n",
        "7. From the dropdown menu, select \"Python 3\" to create a new Jupyter notebook.\n",
        "\n",
        "8. You can now start writing code, adding text, and running cells in your Jupyter notebook.\n",
        "\n",
        "9. Remember to save your notebook regularly by clicking on the floppy disk icon or using the keyboard shortcut Ctrl + S.\n",
        "\n",
        "10. To shut down the Jupyter notebook server, return to the Anaconda terminal and press Ctrl + C. You'll be prompted to confirm the shutdown by typing `y` and pressing Enter.\n",
        "**Shortcuts** For Shortcut key to read cheat sheet\n",
        "\n",
        "[CONDA CHEAT SHEET](https://docs.conda.io/projects/conda/en/4.6.0/_downloads/52a95608c49671267e40c689e0bc00ca/conda-cheatsheet.pdf)\n",
        "\n",
        "[JUPYTER NOTEBOOK CHEAT SHEET](https://www.edureka.co/blog/wp-content/uploads/2018/10/Jupyter_Notebook_CheatSheet_Edureka.pdf)\n",
        "\n"
      ],
      "metadata": {
        "id": "b2L6nIbjIMom"
      }
    },
    {
      "cell_type": "markdown",
      "source": [
        "# For Detial Study\n",
        "we can visit and read more this [Notebook](https://spatial.utk.edu/gee/chapters/01_introduction.html#id12) that written by  Dr. Qiusheng Wu"
      ],
      "metadata": {
        "id": "fgSK6c2CFJID"
      }
    },
    {
      "cell_type": "code",
      "execution_count": null,
      "metadata": {
        "id": "Q6AUwS3zgUlP"
      },
      "outputs": [],
      "source": []
    }
  ]
}