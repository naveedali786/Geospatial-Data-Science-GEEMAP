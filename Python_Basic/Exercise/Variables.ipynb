{
 "cells": [
  {
   "cell_type": "markdown",
   "metadata": {},
   "source": [
    "# Exercise "
   ]
  },
  {
   "cell_type": "markdown",
   "metadata": {},
   "source": [
    "#### Q:Exercise\n",
    "\n",
    "We have a variable named distance_km below with the value 4135 indicating the straight-line distance between San Francisco and New York in Kilometers. Create another variable called distance mi and store the distance value in miles.\n",
    "\n",
    "Hint1: 1 mile = 1.60934 kilometers\n",
    "\n",
    "Add the code in the cell below and run it. The output should be 2569.37"
   ]
  },
  {
   "cell_type": "markdown",
   "metadata": {},
   "source": [
    "**Solution**"
   ]
  },
  {
   "cell_type": "code",
   "execution_count": 1,
   "metadata": {},
   "outputs": [
    {
     "name": "stdout",
     "output_type": "stream",
     "text": [
      "2569.376266046951\n"
     ]
    }
   ],
   "source": [
    "distance_km=4135\n",
    "distance_mi=distance_km/1.60934\n",
    "print(distance_mi)\n"
   ]
  }
 ],
 "metadata": {
  "kernelspec": {
   "display_name": "ml_env",
   "language": "python",
   "name": "python3"
  },
  "language_info": {
   "codemirror_mode": {
    "name": "ipython",
    "version": 3
   },
   "file_extension": ".py",
   "mimetype": "text/x-python",
   "name": "python",
   "nbconvert_exporter": "python",
   "pygments_lexer": "ipython3",
   "version": "3.11.4"
  }
 },
 "nbformat": 4,
 "nbformat_minor": 2
}
